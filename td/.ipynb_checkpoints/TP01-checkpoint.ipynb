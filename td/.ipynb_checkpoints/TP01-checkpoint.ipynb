{
 "cells": [
  {
   "cell_type": "code",
   "execution_count": 1,
   "metadata": {},
   "outputs": [],
   "source": [
    "import pandas as pd\n",
    "import numpy as np"
   ]
  },
  {
   "cell_type": "code",
   "execution_count": 3,
   "metadata": {},
   "outputs": [
    {
     "name": "stdout",
     "output_type": "stream",
     "text": [
      "/Users/yunfei/Desktop/GI05/SY09/td/TP01_Manipulation_de_donnees-enonce\n"
     ]
    }
   ],
   "source": [
    "cd /Users/yunfei/Desktop/GI05/SY09/td/TP01_Manipulation_de_donnees-enonce "
   ]
  },
  {
   "cell_type": "code",
   "execution_count": 10,
   "metadata": {},
   "outputs": [],
   "source": [
    "X = pd.read_csv(\"./data/sy02-p2016.csv\")"
   ]
  },
  {
   "cell_type": "code",
   "execution_count": 16,
   "metadata": {},
   "outputs": [
    {
     "data": {
      "text/plain": [
       "<bound method DataFrame.info of         nom specialite  niveau statut dernier diplome obtenu  note median  \\\n",
       "0      Etu1         GI       4    UTC                    BAC          6.5   \n",
       "1      Etu2         GB       2    UTC                    DUT          6.5   \n",
       "2      Etu3        GSU       4    UTC                    BAC         14.0   \n",
       "3      Etu4        GSM       2    UTC                    BAC         13.0   \n",
       "4      Etu5         GI       4    UTC                    DUT          7.5   \n",
       "..      ...        ...     ...    ...                    ...          ...   \n",
       "291  Etu292         GB       2    UTC                    BTS          8.5   \n",
       "292  Etu293         GB       2    UTC                    BAC         13.5   \n",
       "293  Etu294        GSU       2    UTC                    BAC         12.0   \n",
       "294  Etu295        GSU       2    UTC                    DUT         12.0   \n",
       "295  Etu296        GSU       4    UTC                    BAC          9.5   \n",
       "\n",
       "    correcteur median  note final correcteur final  note totale resultat  \n",
       "0                Cor6         5.0             Cor4          5.6        F  \n",
       "1                Cor6        13.0             Cor4         10.4        E  \n",
       "2                Cor2        17.0             Cor3         15.8        B  \n",
       "3                Cor2        13.5             Cor3         13.3        C  \n",
       "4                Cor2        11.5             Cor3          9.9       Fx  \n",
       "..                ...         ...              ...          ...      ...  \n",
       "291              Cor5         9.0             Cor7          8.8       Fx  \n",
       "292              Cor4        18.0             Cor6         16.2        B  \n",
       "293              Cor5        15.0             Cor7         13.8        C  \n",
       "294              Cor6        18.0             Cor7         15.6        B  \n",
       "295              Cor5        10.5             Cor7         10.1        E  \n",
       "\n",
       "[296 rows x 11 columns]>"
      ]
     },
     "execution_count": 16,
     "metadata": {},
     "output_type": "execute_result"
    }
   ],
   "source": [
    "X.shape"
   ]
  },
  {
   "cell_type": "code",
   "execution_count": null,
   "metadata": {},
   "outputs": [],
   "source": [
    "X.info"
   ]
  },
  {
   "cell_type": "code",
   "execution_count": null,
   "metadata": {},
   "outputs": [],
   "source": []
  }
 ],
 "metadata": {
  "kernelspec": {
   "display_name": "sy09",
   "language": "python",
   "name": "sy09"
  },
  "language_info": {
   "codemirror_mode": {
    "name": "ipython",
    "version": 3
   },
   "file_extension": ".py",
   "mimetype": "text/x-python",
   "name": "python",
   "nbconvert_exporter": "python",
   "pygments_lexer": "ipython3",
   "version": "3.7.3"
  }
 },
 "nbformat": 4,
 "nbformat_minor": 4
}
