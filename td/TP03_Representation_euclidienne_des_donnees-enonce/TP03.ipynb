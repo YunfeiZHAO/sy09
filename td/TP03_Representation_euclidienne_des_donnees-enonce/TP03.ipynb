{
 "cells": [
  {
   "cell_type": "markdown",
   "metadata": {},
   "source": [
    "# Euclidean data representation"
   ]
  },
  {
   "cell_type": "code",
   "execution_count": 1,
   "metadata": {},
   "outputs": [],
   "source": [
    "import pandas as pd\n",
    "from matplotlib import pyplot as plt\n",
    "import seaborn as sns\n",
    "import numpy as np"
   ]
  },
  {
   "cell_type": "code",
   "execution_count": 2,
   "metadata": {},
   "outputs": [],
   "source": [
    "def add_labels(X , Y, labels):\n",
    "    for x, y, l in zip(X, Y, labels):\n",
    "        text = plt.annotate(l, # this is the text\n",
    "                     (x,y), # this is the point to label\n",
    "                     textcoords=\"offset points\", # how to position the text\n",
    "                     xytext=(0,10), # distance from text to points (x,y)\n",
    "                     ha='center') "
   ]
  },
  {
   "cell_type": "code",
   "execution_count": 3,
   "metadata": {},
   "outputs": [
    {
     "data": {
      "image/png": "[encoded data removed]",
      "text/plain": [
       "<Figure size 432x288 with 1 Axes>"
      ]
     },
     "metadata": {
      "needs_background": "light"
     },
     "output_type": "display_data"
    }
   ],
   "source": [
    "notes = pd.read_csv(\"data/notes.txt\", sep=\"\\s+\")\n",
    "plt.scatter(notes.math, notes.scie)\n",
    "add_labels(notes.math, notes.scie, notes.index)\n",
    "plt.show()"
   ]
  },
  {
   "cell_type": "code",
   "execution_count": 4,
   "metadata": {
    "scrolled": true
   },
   "outputs": [
    {
     "data": {
      "text/html": [
       "<div>\n",
       "<style scoped>\n",
       "    .dataframe tbody tr th:only-of-type {\n",
       "        vertical-align: middle;\n",
       "    }\n",
       "\n",
       "    .dataframe tbody tr th {\n",
       "        vertical-align: top;\n",
       "    }\n",
       "\n",
       "    .dataframe thead th {\n",
       "        text-align: right;\n",
       "    }\n",
       "</style>\n",
       "<table border=\"1\" class=\"dataframe\">\n",
       "  <thead>\n",
       "    <tr style=\"text-align: right;\">\n",
       "      <th></th>\n",
       "      <th>math</th>\n",
       "      <th>scie</th>\n",
       "      <th>fran</th>\n",
       "      <th>lati</th>\n",
       "      <th>d-m</th>\n",
       "    </tr>\n",
       "  </thead>\n",
       "  <tbody>\n",
       "    <tr>\n",
       "      <th>jean</th>\n",
       "      <td>6.0</td>\n",
       "      <td>6.0</td>\n",
       "      <td>5.0</td>\n",
       "      <td>5.5</td>\n",
       "      <td>8</td>\n",
       "    </tr>\n",
       "    <tr>\n",
       "      <th>alin</th>\n",
       "      <td>8.0</td>\n",
       "      <td>8.0</td>\n",
       "      <td>8.0</td>\n",
       "      <td>8.0</td>\n",
       "      <td>9</td>\n",
       "    </tr>\n",
       "    <tr>\n",
       "      <th>anni</th>\n",
       "      <td>6.0</td>\n",
       "      <td>7.0</td>\n",
       "      <td>11.0</td>\n",
       "      <td>9.5</td>\n",
       "      <td>11</td>\n",
       "    </tr>\n",
       "    <tr>\n",
       "      <th>moni</th>\n",
       "      <td>14.5</td>\n",
       "      <td>14.5</td>\n",
       "      <td>15.5</td>\n",
       "      <td>15.0</td>\n",
       "      <td>8</td>\n",
       "    </tr>\n",
       "    <tr>\n",
       "      <th>didi</th>\n",
       "      <td>14.0</td>\n",
       "      <td>14.0</td>\n",
       "      <td>12.0</td>\n",
       "      <td>12.5</td>\n",
       "      <td>10</td>\n",
       "    </tr>\n",
       "    <tr>\n",
       "      <th>andr</th>\n",
       "      <td>11.0</td>\n",
       "      <td>10.0</td>\n",
       "      <td>5.5</td>\n",
       "      <td>7.0</td>\n",
       "      <td>13</td>\n",
       "    </tr>\n",
       "    <tr>\n",
       "      <th>pier</th>\n",
       "      <td>5.5</td>\n",
       "      <td>7.0</td>\n",
       "      <td>14.0</td>\n",
       "      <td>11.5</td>\n",
       "      <td>10</td>\n",
       "    </tr>\n",
       "    <tr>\n",
       "      <th>brig</th>\n",
       "      <td>13.0</td>\n",
       "      <td>12.5</td>\n",
       "      <td>8.5</td>\n",
       "      <td>9.5</td>\n",
       "      <td>12</td>\n",
       "    </tr>\n",
       "    <tr>\n",
       "      <th>evel</th>\n",
       "      <td>9.0</td>\n",
       "      <td>9.5</td>\n",
       "      <td>12.5</td>\n",
       "      <td>12.0</td>\n",
       "      <td>18</td>\n",
       "    </tr>\n",
       "  </tbody>\n",
       "</table>\n",
       "</div>"
      ],
      "text/plain": [
       "      math  scie  fran  lati  d-m\n",
       "jean   6.0   6.0   5.0   5.5    8\n",
       "alin   8.0   8.0   8.0   8.0    9\n",
       "anni   6.0   7.0  11.0   9.5   11\n",
       "moni  14.5  14.5  15.5  15.0    8\n",
       "didi  14.0  14.0  12.0  12.5   10\n",
       "andr  11.0  10.0   5.5   7.0   13\n",
       "pier   5.5   7.0  14.0  11.5   10\n",
       "brig  13.0  12.5   8.5   9.5   12\n",
       "evel   9.0   9.5  12.5  12.0   18"
      ]
     },
     "execution_count": 4,
     "metadata": {},
     "output_type": "execute_result"
    }
   ],
   "source": [
    "notes"
   ]
  },
  {
   "cell_type": "markdown",
   "metadata": {},
   "source": [
    "## Brief analysis and representation"
   ]
  },
  {
   "cell_type": "code",
   "execution_count": 5,
   "metadata": {
    "scrolled": true
   },
   "outputs": [
    {
     "data": {
      "text/html": [
       "<div>\n",
       "<style scoped>\n",
       "    .dataframe tbody tr th:only-of-type {\n",
       "        vertical-align: middle;\n",
       "    }\n",
       "\n",
       "    .dataframe tbody tr th {\n",
       "        vertical-align: top;\n",
       "    }\n",
       "\n",
       "    .dataframe thead th {\n",
       "        text-align: right;\n",
       "    }\n",
       "</style>\n",
       "<table border=\"1\" class=\"dataframe\">\n",
       "  <thead>\n",
       "    <tr style=\"text-align: right;\">\n",
       "      <th></th>\n",
       "      <th>index</th>\n",
       "      <th>math</th>\n",
       "      <th>scie</th>\n",
       "      <th>fran</th>\n",
       "      <th>lati</th>\n",
       "      <th>d-m</th>\n",
       "    </tr>\n",
       "  </thead>\n",
       "  <tbody>\n",
       "    <tr>\n",
       "      <th>0</th>\n",
       "      <td>jean</td>\n",
       "      <td>6.0</td>\n",
       "      <td>6.0</td>\n",
       "      <td>5.0</td>\n",
       "      <td>5.5</td>\n",
       "      <td>8</td>\n",
       "    </tr>\n",
       "    <tr>\n",
       "      <th>1</th>\n",
       "      <td>alin</td>\n",
       "      <td>8.0</td>\n",
       "      <td>8.0</td>\n",
       "      <td>8.0</td>\n",
       "      <td>8.0</td>\n",
       "      <td>9</td>\n",
       "    </tr>\n",
       "    <tr>\n",
       "      <th>2</th>\n",
       "      <td>anni</td>\n",
       "      <td>6.0</td>\n",
       "      <td>7.0</td>\n",
       "      <td>11.0</td>\n",
       "      <td>9.5</td>\n",
       "      <td>11</td>\n",
       "    </tr>\n",
       "    <tr>\n",
       "      <th>3</th>\n",
       "      <td>moni</td>\n",
       "      <td>14.5</td>\n",
       "      <td>14.5</td>\n",
       "      <td>15.5</td>\n",
       "      <td>15.0</td>\n",
       "      <td>8</td>\n",
       "    </tr>\n",
       "    <tr>\n",
       "      <th>4</th>\n",
       "      <td>didi</td>\n",
       "      <td>14.0</td>\n",
       "      <td>14.0</td>\n",
       "      <td>12.0</td>\n",
       "      <td>12.5</td>\n",
       "      <td>10</td>\n",
       "    </tr>\n",
       "    <tr>\n",
       "      <th>5</th>\n",
       "      <td>andr</td>\n",
       "      <td>11.0</td>\n",
       "      <td>10.0</td>\n",
       "      <td>5.5</td>\n",
       "      <td>7.0</td>\n",
       "      <td>13</td>\n",
       "    </tr>\n",
       "    <tr>\n",
       "      <th>6</th>\n",
       "      <td>pier</td>\n",
       "      <td>5.5</td>\n",
       "      <td>7.0</td>\n",
       "      <td>14.0</td>\n",
       "      <td>11.5</td>\n",
       "      <td>10</td>\n",
       "    </tr>\n",
       "    <tr>\n",
       "      <th>7</th>\n",
       "      <td>brig</td>\n",
       "      <td>13.0</td>\n",
       "      <td>12.5</td>\n",
       "      <td>8.5</td>\n",
       "      <td>9.5</td>\n",
       "      <td>12</td>\n",
       "    </tr>\n",
       "    <tr>\n",
       "      <th>8</th>\n",
       "      <td>evel</td>\n",
       "      <td>9.0</td>\n",
       "      <td>9.5</td>\n",
       "      <td>12.5</td>\n",
       "      <td>12.0</td>\n",
       "      <td>18</td>\n",
       "    </tr>\n",
       "  </tbody>\n",
       "</table>\n",
       "</div>"
      ],
      "text/plain": [
       "  index  math  scie  fran  lati  d-m\n",
       "0  jean   6.0   6.0   5.0   5.5    8\n",
       "1  alin   8.0   8.0   8.0   8.0    9\n",
       "2  anni   6.0   7.0  11.0   9.5   11\n",
       "3  moni  14.5  14.5  15.5  15.0    8\n",
       "4  didi  14.0  14.0  12.0  12.5   10\n",
       "5  andr  11.0  10.0   5.5   7.0   13\n",
       "6  pier   5.5   7.0  14.0  11.5   10\n",
       "7  brig  13.0  12.5   8.5   9.5   12\n",
       "8  evel   9.0   9.5  12.5  12.0   18"
      ]
     },
     "execution_count": 5,
     "metadata": {},
     "output_type": "execute_result"
    }
   ],
   "source": [
    "notes0 = notes.reset_index()\n",
    "notes0"
   ]
  },
  {
   "cell_type": "code",
   "execution_count": 6,
   "metadata": {},
   "outputs": [
    {
     "data": {
      "text/html": [
       "<div>\n",
       "<style scoped>\n",
       "    .dataframe tbody tr th:only-of-type {\n",
       "        vertical-align: middle;\n",
       "    }\n",
       "\n",
       "    .dataframe tbody tr th {\n",
       "        vertical-align: top;\n",
       "    }\n",
       "\n",
       "    .dataframe thead th {\n",
       "        text-align: right;\n",
       "    }\n",
       "</style>\n",
       "<table border=\"1\" class=\"dataframe\">\n",
       "  <thead>\n",
       "    <tr style=\"text-align: right;\">\n",
       "      <th></th>\n",
       "      <th>index</th>\n",
       "      <th>Matiere</th>\n",
       "      <th>Note</th>\n",
       "    </tr>\n",
       "  </thead>\n",
       "  <tbody>\n",
       "    <tr>\n",
       "      <th>0</th>\n",
       "      <td>jean</td>\n",
       "      <td>math</td>\n",
       "      <td>6.0</td>\n",
       "    </tr>\n",
       "    <tr>\n",
       "      <th>1</th>\n",
       "      <td>alin</td>\n",
       "      <td>math</td>\n",
       "      <td>8.0</td>\n",
       "    </tr>\n",
       "    <tr>\n",
       "      <th>2</th>\n",
       "      <td>anni</td>\n",
       "      <td>math</td>\n",
       "      <td>6.0</td>\n",
       "    </tr>\n",
       "    <tr>\n",
       "      <th>3</th>\n",
       "      <td>moni</td>\n",
       "      <td>math</td>\n",
       "      <td>14.5</td>\n",
       "    </tr>\n",
       "    <tr>\n",
       "      <th>4</th>\n",
       "      <td>didi</td>\n",
       "      <td>math</td>\n",
       "      <td>14.0</td>\n",
       "    </tr>\n",
       "    <tr>\n",
       "      <th>5</th>\n",
       "      <td>andr</td>\n",
       "      <td>math</td>\n",
       "      <td>11.0</td>\n",
       "    </tr>\n",
       "    <tr>\n",
       "      <th>6</th>\n",
       "      <td>pier</td>\n",
       "      <td>math</td>\n",
       "      <td>5.5</td>\n",
       "    </tr>\n",
       "    <tr>\n",
       "      <th>7</th>\n",
       "      <td>brig</td>\n",
       "      <td>math</td>\n",
       "      <td>13.0</td>\n",
       "    </tr>\n",
       "    <tr>\n",
       "      <th>8</th>\n",
       "      <td>evel</td>\n",
       "      <td>math</td>\n",
       "      <td>9.0</td>\n",
       "    </tr>\n",
       "    <tr>\n",
       "      <th>9</th>\n",
       "      <td>jean</td>\n",
       "      <td>scie</td>\n",
       "      <td>6.0</td>\n",
       "    </tr>\n",
       "    <tr>\n",
       "      <th>10</th>\n",
       "      <td>alin</td>\n",
       "      <td>scie</td>\n",
       "      <td>8.0</td>\n",
       "    </tr>\n",
       "    <tr>\n",
       "      <th>11</th>\n",
       "      <td>anni</td>\n",
       "      <td>scie</td>\n",
       "      <td>7.0</td>\n",
       "    </tr>\n",
       "    <tr>\n",
       "      <th>12</th>\n",
       "      <td>moni</td>\n",
       "      <td>scie</td>\n",
       "      <td>14.5</td>\n",
       "    </tr>\n",
       "    <tr>\n",
       "      <th>13</th>\n",
       "      <td>didi</td>\n",
       "      <td>scie</td>\n",
       "      <td>14.0</td>\n",
       "    </tr>\n",
       "    <tr>\n",
       "      <th>14</th>\n",
       "      <td>andr</td>\n",
       "      <td>scie</td>\n",
       "      <td>10.0</td>\n",
       "    </tr>\n",
       "    <tr>\n",
       "      <th>15</th>\n",
       "      <td>pier</td>\n",
       "      <td>scie</td>\n",
       "      <td>7.0</td>\n",
       "    </tr>\n",
       "    <tr>\n",
       "      <th>16</th>\n",
       "      <td>brig</td>\n",
       "      <td>scie</td>\n",
       "      <td>12.5</td>\n",
       "    </tr>\n",
       "    <tr>\n",
       "      <th>17</th>\n",
       "      <td>evel</td>\n",
       "      <td>scie</td>\n",
       "      <td>9.5</td>\n",
       "    </tr>\n",
       "    <tr>\n",
       "      <th>18</th>\n",
       "      <td>jean</td>\n",
       "      <td>fran</td>\n",
       "      <td>5.0</td>\n",
       "    </tr>\n",
       "    <tr>\n",
       "      <th>19</th>\n",
       "      <td>alin</td>\n",
       "      <td>fran</td>\n",
       "      <td>8.0</td>\n",
       "    </tr>\n",
       "    <tr>\n",
       "      <th>20</th>\n",
       "      <td>anni</td>\n",
       "      <td>fran</td>\n",
       "      <td>11.0</td>\n",
       "    </tr>\n",
       "    <tr>\n",
       "      <th>21</th>\n",
       "      <td>moni</td>\n",
       "      <td>fran</td>\n",
       "      <td>15.5</td>\n",
       "    </tr>\n",
       "    <tr>\n",
       "      <th>22</th>\n",
       "      <td>didi</td>\n",
       "      <td>fran</td>\n",
       "      <td>12.0</td>\n",
       "    </tr>\n",
       "    <tr>\n",
       "      <th>23</th>\n",
       "      <td>andr</td>\n",
       "      <td>fran</td>\n",
       "      <td>5.5</td>\n",
       "    </tr>\n",
       "    <tr>\n",
       "      <th>24</th>\n",
       "      <td>pier</td>\n",
       "      <td>fran</td>\n",
       "      <td>14.0</td>\n",
       "    </tr>\n",
       "    <tr>\n",
       "      <th>25</th>\n",
       "      <td>brig</td>\n",
       "      <td>fran</td>\n",
       "      <td>8.5</td>\n",
       "    </tr>\n",
       "    <tr>\n",
       "      <th>26</th>\n",
       "      <td>evel</td>\n",
       "      <td>fran</td>\n",
       "      <td>12.5</td>\n",
       "    </tr>\n",
       "    <tr>\n",
       "      <th>27</th>\n",
       "      <td>jean</td>\n",
       "      <td>lati</td>\n",
       "      <td>5.5</td>\n",
       "    </tr>\n",
       "    <tr>\n",
       "      <th>28</th>\n",
       "      <td>alin</td>\n",
       "      <td>lati</td>\n",
       "      <td>8.0</td>\n",
       "    </tr>\n",
       "    <tr>\n",
       "      <th>29</th>\n",
       "      <td>anni</td>\n",
       "      <td>lati</td>\n",
       "      <td>9.5</td>\n",
       "    </tr>\n",
       "    <tr>\n",
       "      <th>30</th>\n",
       "      <td>moni</td>\n",
       "      <td>lati</td>\n",
       "      <td>15.0</td>\n",
       "    </tr>\n",
       "    <tr>\n",
       "      <th>31</th>\n",
       "      <td>didi</td>\n",
       "      <td>lati</td>\n",
       "      <td>12.5</td>\n",
       "    </tr>\n",
       "    <tr>\n",
       "      <th>32</th>\n",
       "      <td>andr</td>\n",
       "      <td>lati</td>\n",
       "      <td>7.0</td>\n",
       "    </tr>\n",
       "    <tr>\n",
       "      <th>33</th>\n",
       "      <td>pier</td>\n",
       "      <td>lati</td>\n",
       "      <td>11.5</td>\n",
       "    </tr>\n",
       "    <tr>\n",
       "      <th>34</th>\n",
       "      <td>brig</td>\n",
       "      <td>lati</td>\n",
       "      <td>9.5</td>\n",
       "    </tr>\n",
       "    <tr>\n",
       "      <th>35</th>\n",
       "      <td>evel</td>\n",
       "      <td>lati</td>\n",
       "      <td>12.0</td>\n",
       "    </tr>\n",
       "    <tr>\n",
       "      <th>36</th>\n",
       "      <td>jean</td>\n",
       "      <td>d-m</td>\n",
       "      <td>8.0</td>\n",
       "    </tr>\n",
       "    <tr>\n",
       "      <th>37</th>\n",
       "      <td>alin</td>\n",
       "      <td>d-m</td>\n",
       "      <td>9.0</td>\n",
       "    </tr>\n",
       "    <tr>\n",
       "      <th>38</th>\n",
       "      <td>anni</td>\n",
       "      <td>d-m</td>\n",
       "      <td>11.0</td>\n",
       "    </tr>\n",
       "    <tr>\n",
       "      <th>39</th>\n",
       "      <td>moni</td>\n",
       "      <td>d-m</td>\n",
       "      <td>8.0</td>\n",
       "    </tr>\n",
       "    <tr>\n",
       "      <th>40</th>\n",
       "      <td>didi</td>\n",
       "      <td>d-m</td>\n",
       "      <td>10.0</td>\n",
       "    </tr>\n",
       "    <tr>\n",
       "      <th>41</th>\n",
       "      <td>andr</td>\n",
       "      <td>d-m</td>\n",
       "      <td>13.0</td>\n",
       "    </tr>\n",
       "    <tr>\n",
       "      <th>42</th>\n",
       "      <td>pier</td>\n",
       "      <td>d-m</td>\n",
       "      <td>10.0</td>\n",
       "    </tr>\n",
       "    <tr>\n",
       "      <th>43</th>\n",
       "      <td>brig</td>\n",
       "      <td>d-m</td>\n",
       "      <td>12.0</td>\n",
       "    </tr>\n",
       "    <tr>\n",
       "      <th>44</th>\n",
       "      <td>evel</td>\n",
       "      <td>d-m</td>\n",
       "      <td>18.0</td>\n",
       "    </tr>\n",
       "  </tbody>\n",
       "</table>\n",
       "</div>"
      ],
      "text/plain": [
       "   index Matiere  Note\n",
       "0   jean    math   6.0\n",
       "1   alin    math   8.0\n",
       "2   anni    math   6.0\n",
       "3   moni    math  14.5\n",
       "4   didi    math  14.0\n",
       "5   andr    math  11.0\n",
       "6   pier    math   5.5\n",
       "7   brig    math  13.0\n",
       "8   evel    math   9.0\n",
       "9   jean    scie   6.0\n",
       "10  alin    scie   8.0\n",
       "11  anni    scie   7.0\n",
       "12  moni    scie  14.5\n",
       "13  didi    scie  14.0\n",
       "14  andr    scie  10.0\n",
       "15  pier    scie   7.0\n",
       "16  brig    scie  12.5\n",
       "17  evel    scie   9.5\n",
       "18  jean    fran   5.0\n",
       "19  alin    fran   8.0\n",
       "20  anni    fran  11.0\n",
       "21  moni    fran  15.5\n",
       "22  didi    fran  12.0\n",
       "23  andr    fran   5.5\n",
       "24  pier    fran  14.0\n",
       "25  brig    fran   8.5\n",
       "26  evel    fran  12.5\n",
       "27  jean    lati   5.5\n",
       "28  alin    lati   8.0\n",
       "29  anni    lati   9.5\n",
       "30  moni    lati  15.0\n",
       "31  didi    lati  12.5\n",
       "32  andr    lati   7.0\n",
       "33  pier    lati  11.5\n",
       "34  brig    lati   9.5\n",
       "35  evel    lati  12.0\n",
       "36  jean     d-m   8.0\n",
       "37  alin     d-m   9.0\n",
       "38  anni     d-m  11.0\n",
       "39  moni     d-m   8.0\n",
       "40  didi     d-m  10.0\n",
       "41  andr     d-m  13.0\n",
       "42  pier     d-m  10.0\n",
       "43  brig     d-m  12.0\n",
       "44  evel     d-m  18.0"
      ]
     },
     "execution_count": 6,
     "metadata": {},
     "output_type": "execute_result"
    }
   ],
   "source": [
    "notes_melt = notes0.melt(id_vars=[\"index\"], var_name=\"Matiere\", value_name=\"Note\")\n",
    "notes_melt"
   ]
  },
  {
   "cell_type": "code",
   "execution_count": 29,
   "metadata": {
    "scrolled": true
   },
   "outputs": [
    {
     "data": {
      "text/plain": [
       "<matplotlib.axes._subplots.AxesSubplot at 0x1a1db6fc50>"
      ]
     },
     "execution_count": 29,
     "metadata": {},
     "output_type": "execute_result"
    },
    {
     "data": {
      "image/png": "[encoded data removed]",
      "text/plain": [
       "<Figure size 432x288 with 1 Axes>"
      ]
     },
     "metadata": {
      "needs_background": "light"
     },
     "output_type": "display_data"
    }
   ],
   "source": [
    "sns.barplot(x=\"index\", y=\"Note\", hue=\"Matiere\", data=notes_melt)\n",
    "plt.show()"
   ]
  },
  {
   "cell_type": "code",
   "execution_count": 31,
   "metadata": {
    "scrolled": true
   },
   "outputs": [
    {
     "data": {
      "text/plain": [
       "<matplotlib.axes._subplots.AxesSubplot at 0x1a1dd92128>"
      ]
     },
     "execution_count": 31,
     "metadata": {},
     "output_type": "execute_result"
    },
    {
     "data": {
      "image/png": "[encoded data removed]",
      "text/plain": [
       "<Figure size 432x288 with 1 Axes>"
      ]
     },
     "metadata": {
      "needs_background": "light"
     },
     "output_type": "display_data"
    }
   ],
   "source": [
    "sns.barplot(x=\"Matiere\", y=\"Note\", data=notes_melt)\n",
    "plt.show()"
   ]
  },
  {
   "cell_type": "code",
   "execution_count": 32,
   "metadata": {},
   "outputs": [
    {
     "data": {
      "text/plain": [
       "<matplotlib.axes._subplots.AxesSubplot at 0x1a1dd45cc0>"
      ]
     },
     "execution_count": 32,
     "metadata": {},
     "output_type": "execute_result"
    },
    {
     "data": {
      "image/png": "[encoded data removed]",
      "text/plain": [
       "<Figure size 432x288 with 1 Axes>"
      ]
     },
     "metadata": {
      "needs_background": "light"
     },
     "output_type": "display_data"
    }
   ],
   "source": [
    "sns.barplot(x=\"Matiere\", y=\"Note\", hue=\"index\", data=notes_melt)\n",
    "plt.show()"
   ]
  },
  {
   "cell_type": "markdown",
   "metadata": {},
   "source": [
    "### Bring cetains matierials together"
   ]
  },
  {
   "cell_type": "code",
   "execution_count": 33,
   "metadata": {},
   "outputs": [
    {
     "data": {
      "text/plain": [
       "<matplotlib.axes._subplots.AxesSubplot at 0x1a1f538ba8>"
      ]
     },
     "execution_count": 33,
     "metadata": {},
     "output_type": "execute_result"
    },
    {
     "data": {
      "text/plain": [
       "<function matplotlib.pyplot.show(*args, **kw)>"
      ]
     },
     "execution_count": 33,
     "metadata": {},
     "output_type": "execute_result"
    },
    {
     "data": {
      "image/png": "[encoded data removed]",
      "text/plain": [
       "<Figure size 432x288 with 2 Axes>"
      ]
     },
     "metadata": {
      "needs_background": "light"
     },
     "output_type": "display_data"
    }
   ],
   "source": [
    "corr = notes.corr()\n",
    "sns.heatmap(corr)\n",
    "plt.show"
   ]
  },
  {
   "cell_type": "markdown",
   "metadata": {},
   "source": [
    "### science and math"
   ]
  },
  {
   "cell_type": "code",
   "execution_count": 40,
   "metadata": {
    "scrolled": true
   },
   "outputs": [
    {
     "data": {
      "image/png": "[encoded data removed]",
      "text/plain": [
       "<Figure size 432x288 with 1 Axes>"
      ]
     },
     "metadata": {
      "needs_background": "light"
     },
     "output_type": "display_data"
    }
   ],
   "source": [
    "plt.scatter(notes.math, notes.scie) \n",
    "add_labels(notes.math, notes.scie, notes.index) \n",
    "plt.show()"
   ]
  },
  {
   "cell_type": "markdown",
   "metadata": {},
   "source": [
    "Les individus « brig », « didi » et « moni » se détachent."
   ]
  },
  {
   "cell_type": "markdown",
   "metadata": {},
   "source": [
    "### franch and latin"
   ]
  },
  {
   "cell_type": "code",
   "execution_count": 46,
   "metadata": {
    "scrolled": false
   },
   "outputs": [
    {
     "data": {
      "text/plain": [
       "<matplotlib.collections.PathCollection at 0x1a205bd2b0>"
      ]
     },
     "execution_count": 46,
     "metadata": {},
     "output_type": "execute_result"
    },
    {
     "data": {
      "image/png": "[encoded data removed]",
      "text/plain": [
       "<Figure size 432x288 with 1 Axes>"
      ]
     },
     "metadata": {
      "needs_background": "light"
     },
     "output_type": "display_data"
    }
   ],
   "source": [
    "plt.scatter(notes.fran, notes.lati) \n",
    "add_labels(notes.fran, notes.lati, notes.index) \n",
    "plt.show()"
   ]
  },
  {
   "cell_type": "markdown",
   "metadata": {},
   "source": [
    "Les individus « didi », « evel », « pier » et « moni » se détachent."
   ]
  },
  {
   "cell_type": "code",
   "execution_count": 9,
   "metadata": {
    "scrolled": true
   },
   "outputs": [
    {
     "data": {
      "image/png": "[encoded data removed]",
      "text/plain": [
       "<Figure size 432x288 with 1 Axes>"
      ]
     },
     "metadata": {
      "needs_background": "light"
     },
     "output_type": "display_data"
    }
   ],
   "source": [
    "ax = sns.stripplot(x=notes[\"d-m\"])"
   ]
  },
  {
   "cell_type": "code",
   "execution_count": 15,
   "metadata": {},
   "outputs": [
    {
     "data": {
      "text/plain": [
       "masked_array(\n",
       "  data=[[8.0, 0.08108893001848669],\n",
       "        [9.0, 0.07979578408935631],\n",
       "        [11.0, 0.019159615606395036],\n",
       "        [8.0, 0.04839434708483889],\n",
       "        [10.0, -0.09935287948664864],\n",
       "        [13.0, 0.0744938794157935],\n",
       "        [10.0, 0.03531917447109417],\n",
       "        [12.0, 0.006490584005453409],\n",
       "        [18.0, -0.01746500925382366]],\n",
       "  mask=[[False, False],\n",
       "        [False, False],\n",
       "        [False, False],\n",
       "        [False, False],\n",
       "        [False, False],\n",
       "        [False, False],\n",
       "        [False, False],\n",
       "        [False, False],\n",
       "        [False, False]],\n",
       "  fill_value=1e+20)"
      ]
     },
     "execution_count": 15,
     "metadata": {},
     "output_type": "execute_result"
    }
   ],
   "source": [
    "ax.get_children()[0].get_offsets()"
   ]
  },
  {
   "cell_type": "code",
   "execution_count": 10,
   "metadata": {},
   "outputs": [
    {
     "data": {
      "text/plain": [
       "array([[ 8.00000000e+00,  8.10889300e-02],\n",
       "       [ 9.00000000e+00,  7.97957841e-02],\n",
       "       [ 1.10000000e+01,  1.91596156e-02],\n",
       "       [ 8.00000000e+00,  4.83943471e-02],\n",
       "       [ 1.00000000e+01, -9.93528795e-02],\n",
       "       [ 1.30000000e+01,  7.44938794e-02],\n",
       "       [ 1.00000000e+01,  3.53191745e-02],\n",
       "       [ 1.20000000e+01,  6.49058401e-03],\n",
       "       [ 1.80000000e+01, -1.74650093e-02]])"
      ]
     },
     "execution_count": 10,
     "metadata": {},
     "output_type": "execute_result"
    }
   ],
   "source": [
    "loc = ax.get_children()[0].get_offsets().data\n",
    "loc"
   ]
  },
  {
   "cell_type": "code",
   "execution_count": 64,
   "metadata": {},
   "outputs": [
    {
     "data": {
      "image/png": "[encoded data removed]",
      "text/plain": [
       "<Figure size 432x288 with 1 Axes>"
      ]
     },
     "metadata": {
      "needs_background": "light"
     },
     "output_type": "display_data"
    }
   ],
   "source": [
    "\n",
    "loc = ax.get_children()[0].get_offsets().data\n",
    "add_labels(loc.T[0], loc.T[1], notes.index)\n",
    "plt.show()"
   ]
  },
  {
   "cell_type": "markdown",
   "metadata": {},
   "source": [
    "### represent student by the mean score of scientific and litterature"
   ]
  },
  {
   "cell_type": "code",
   "execution_count": 67,
   "metadata": {},
   "outputs": [
    {
     "data": {
      "text/plain": [
       "<matplotlib.collections.PathCollection at 0x1a1fd06eb8>"
      ]
     },
     "execution_count": 67,
     "metadata": {},
     "output_type": "execute_result"
    },
    {
     "data": {
      "image/png": "[encoded data removed]",
      "text/plain": [
       "<Figure size 432x288 with 1 Axes>"
      ]
     },
     "metadata": {
      "needs_background": "light"
     },
     "output_type": "display_data"
    }
   ],
   "source": [
    "plt.scatter((notes.math + notes.scie)/2, (notes.fran + notes.lati)/2)\n",
    "add_labels((notes.math + notes.scie)/2, (notes.fran + notes.lati)/2, notes.index)\n",
    "plt.show()"
   ]
  },
  {
   "cell_type": "markdown",
   "metadata": {},
   "source": [
    "## Choice of representation"
   ]
  },
  {
   "cell_type": "markdown",
   "metadata": {},
   "source": [
    "### La quantité totale d’inertie expliquée par les axes"
   ]
  },
  {
   "cell_type": "code",
   "execution_count": 39,
   "metadata": {},
   "outputs": [
    {
     "data": {
      "text/html": [
       "<div>\n",
       "<style scoped>\n",
       "    .dataframe tbody tr th:only-of-type {\n",
       "        vertical-align: middle;\n",
       "    }\n",
       "\n",
       "    .dataframe tbody tr th {\n",
       "        vertical-align: top;\n",
       "    }\n",
       "\n",
       "    .dataframe thead th {\n",
       "        text-align: right;\n",
       "    }\n",
       "</style>\n",
       "<table border=\"1\" class=\"dataframe\">\n",
       "  <thead>\n",
       "    <tr style=\"text-align: right;\">\n",
       "      <th></th>\n",
       "      <th>math</th>\n",
       "      <th>scie</th>\n",
       "      <th>fran</th>\n",
       "      <th>lati</th>\n",
       "      <th>d-m</th>\n",
       "    </tr>\n",
       "  </thead>\n",
       "  <tbody>\n",
       "    <tr>\n",
       "      <th>jean</th>\n",
       "      <td>6.0</td>\n",
       "      <td>6.0</td>\n",
       "      <td>5.0</td>\n",
       "      <td>5.5</td>\n",
       "      <td>8</td>\n",
       "    </tr>\n",
       "    <tr>\n",
       "      <th>alin</th>\n",
       "      <td>8.0</td>\n",
       "      <td>8.0</td>\n",
       "      <td>8.0</td>\n",
       "      <td>8.0</td>\n",
       "      <td>9</td>\n",
       "    </tr>\n",
       "    <tr>\n",
       "      <th>anni</th>\n",
       "      <td>6.0</td>\n",
       "      <td>7.0</td>\n",
       "      <td>11.0</td>\n",
       "      <td>9.5</td>\n",
       "      <td>11</td>\n",
       "    </tr>\n",
       "    <tr>\n",
       "      <th>moni</th>\n",
       "      <td>14.5</td>\n",
       "      <td>14.5</td>\n",
       "      <td>15.5</td>\n",
       "      <td>15.0</td>\n",
       "      <td>8</td>\n",
       "    </tr>\n",
       "    <tr>\n",
       "      <th>didi</th>\n",
       "      <td>14.0</td>\n",
       "      <td>14.0</td>\n",
       "      <td>12.0</td>\n",
       "      <td>12.5</td>\n",
       "      <td>10</td>\n",
       "    </tr>\n",
       "    <tr>\n",
       "      <th>andr</th>\n",
       "      <td>11.0</td>\n",
       "      <td>10.0</td>\n",
       "      <td>5.5</td>\n",
       "      <td>7.0</td>\n",
       "      <td>13</td>\n",
       "    </tr>\n",
       "    <tr>\n",
       "      <th>pier</th>\n",
       "      <td>5.5</td>\n",
       "      <td>7.0</td>\n",
       "      <td>14.0</td>\n",
       "      <td>11.5</td>\n",
       "      <td>10</td>\n",
       "    </tr>\n",
       "    <tr>\n",
       "      <th>brig</th>\n",
       "      <td>13.0</td>\n",
       "      <td>12.5</td>\n",
       "      <td>8.5</td>\n",
       "      <td>9.5</td>\n",
       "      <td>12</td>\n",
       "    </tr>\n",
       "    <tr>\n",
       "      <th>evel</th>\n",
       "      <td>9.0</td>\n",
       "      <td>9.5</td>\n",
       "      <td>12.5</td>\n",
       "      <td>12.0</td>\n",
       "      <td>18</td>\n",
       "    </tr>\n",
       "  </tbody>\n",
       "</table>\n",
       "</div>"
      ],
      "text/plain": [
       "      math  scie  fran  lati  d-m\n",
       "jean   6.0   6.0   5.0   5.5    8\n",
       "alin   8.0   8.0   8.0   8.0    9\n",
       "anni   6.0   7.0  11.0   9.5   11\n",
       "moni  14.5  14.5  15.5  15.0    8\n",
       "didi  14.0  14.0  12.0  12.5   10\n",
       "andr  11.0  10.0   5.5   7.0   13\n",
       "pier   5.5   7.0  14.0  11.5   10\n",
       "brig  13.0  12.5   8.5   9.5   12\n",
       "evel   9.0   9.5  12.5  12.0   18"
      ]
     },
     "execution_count": 39,
     "metadata": {},
     "output_type": "execute_result"
    }
   ],
   "source": [
    "notes[['math', 'scie', 'fran', 'lati', 'd-m']]"
   ]
  },
  {
   "cell_type": "code",
   "execution_count": 37,
   "metadata": {},
   "outputs": [
    {
     "data": {
      "text/plain": [
       "48.97530864197531"
      ]
     },
     "execution_count": 37,
     "metadata": {},
     "output_type": "execute_result"
    }
   ],
   "source": [
    "Xc = notes[['math', 'scie', 'fran', 'lati', 'd-m']].to_numpy()\n",
    "C = np.cov(Xc, bias=True, rowvar=False)\n",
    "np.diag(C).sum()"
   ]
  },
  {
   "cell_type": "code",
   "execution_count": 38,
   "metadata": {},
   "outputs": [
    {
     "data": {
      "text/plain": [
       "array([[ 6. ,  6. ,  5. ,  5.5,  8. ],\n",
       "       [ 8. ,  8. ,  8. ,  8. ,  9. ],\n",
       "       [ 6. ,  7. , 11. ,  9.5, 11. ],\n",
       "       [14.5, 14.5, 15.5, 15. ,  8. ],\n",
       "       [14. , 14. , 12. , 12.5, 10. ],\n",
       "       [11. , 10. ,  5.5,  7. , 13. ],\n",
       "       [ 5.5,  7. , 14. , 11.5, 10. ],\n",
       "       [13. , 12.5,  8.5,  9.5, 12. ],\n",
       "       [ 9. ,  9.5, 12.5, 12. , 18. ]])"
      ]
     },
     "execution_count": 38,
     "metadata": {},
     "output_type": "execute_result"
    }
   ],
   "source": [
    "Xc"
   ]
  },
  {
   "cell_type": "code",
   "execution_count": 43,
   "metadata": {},
   "outputs": [
    {
     "data": {
      "text/plain": [
       "array([ 6. ,  8. ,  6. , 14.5, 14. , 11. ,  5.5, 13. ,  9. ])"
      ]
     },
     "execution_count": 43,
     "metadata": {},
     "output_type": "execute_result"
    }
   ],
   "source": [
    "Xc[:, 0]"
   ]
  },
  {
   "cell_type": "code",
   "execution_count": 45,
   "metadata": {},
   "outputs": [
    {
     "data": {
      "text/plain": [
       "11.38888888888889"
      ]
     },
     "execution_count": 45,
     "metadata": {},
     "output_type": "execute_result"
    }
   ],
   "source": [
    "np.var(Xc[:, 0])"
   ]
  },
  {
   "cell_type": "code",
   "execution_count": 40,
   "metadata": {},
   "outputs": [
    {
     "data": {
      "text/plain": [
       "array([[11.38888889,  9.91666667,  2.65740741,  4.82407407,  0.11111111],\n",
       "       [ 9.91666667,  8.94444444,  4.12037037,  5.48148148,  0.05555556],\n",
       "       [ 2.65740741,  4.12037037, 12.0617284 ,  9.29320988,  0.38888889],\n",
       "       [ 4.82407407,  5.48148148,  9.29320988,  7.91358025,  0.66666667],\n",
       "       [ 0.11111111,  0.05555556,  0.38888889,  0.66666667,  8.66666667]])"
      ]
     },
     "execution_count": 40,
     "metadata": {},
     "output_type": "execute_result"
    }
   ],
   "source": [
    "C"
   ]
  },
  {
   "cell_type": "markdown",
   "metadata": {},
   "source": [
    "### la quantité d’inertie expliquée par les axes dans la base A1 "
   ]
  },
  {
   "cell_type": "code",
   "execution_count": 17,
   "metadata": {},
   "outputs": [],
   "source": [
    "import numpy.linalg as linalg"
   ]
  },
  {
   "cell_type": "code",
   "execution_count": 19,
   "metadata": {},
   "outputs": [],
   "source": [
    "A1 = np.array([\n",
    "    [0.5, 0, 0.5, 0, 0], \n",
    "    [0.5, 0, -0.5, 0, 0], \n",
    "    [0, 0.5, 0, 0.5, 0], \n",
    "    [0, 0.5, 0, -0.5, 0], \n",
    "    [0, 0, 0, 0, 1],\n",
    "])"
   ]
  },
  {
   "cell_type": "code",
   "execution_count": 20,
   "metadata": {
    "scrolled": true
   },
   "outputs": [
    {
     "data": {
      "text/plain": [
       "array([[ 1.,  0.,  1., -0.,  0.],\n",
       "       [ 1.,  0., -1., -0.,  0.],\n",
       "       [ 0.,  1., -0.,  1.,  0.],\n",
       "       [ 0.,  1., -0., -1.,  0.],\n",
       "       [ 0.,  0., -0., -0.,  1.]])"
      ]
     },
     "execution_count": 20,
     "metadata": {},
     "output_type": "execute_result"
    }
   ],
   "source": [
    "linalg.inv(A1).T"
   ]
  },
  {
   "cell_type": "code",
   "execution_count": 27,
   "metadata": {},
   "outputs": [
    {
     "data": {
      "text/plain": [
       "array([[0.5, 0. , 0. , 0. , 0. ],\n",
       "       [0. , 0.5, 0. , 0. , 0. ],\n",
       "       [0. , 0. , 0.5, 0. , 0. ],\n",
       "       [0. , 0. , 0. , 0.5, 0. ],\n",
       "       [0. , 0. , 0. , 0. , 1. ]])"
      ]
     },
     "execution_count": 27,
     "metadata": {},
     "output_type": "execute_result"
    }
   ],
   "source": [
    "A1.T @ A1"
   ]
  },
  {
   "cell_type": "code",
   "execution_count": 72,
   "metadata": {},
   "outputs": [
    {
     "data": {
      "text/plain": [
       "89.28395061728395"
      ]
     },
     "execution_count": 72,
     "metadata": {},
     "output_type": "execute_result"
    }
   ],
   "source": [
    "CA1 = np.cov(Xc @ linalg.inv(A1).T, bias=True, rowvar=False)\n",
    "np.diag(CA1).sum()"
   ]
  },
  {
   "cell_type": "code",
   "execution_count": 22,
   "metadata": {},
   "outputs": [],
   "source": [
    "from math import sqrt"
   ]
  },
  {
   "cell_type": "code",
   "execution_count": 31,
   "metadata": {},
   "outputs": [],
   "source": [
    "r = sqrt(2)/2\n",
    "B1 = np.array([\n",
    "    [r, 0, r, 0, 0], \n",
    "    [r, 0, -r, 0, 0], \n",
    "    [0, r, 0, r, 0], \n",
    "    [0, r, 0, -r, 0], \n",
    "    [0, 0, 0, 0, 1],\n",
    "])\n",
    "B2 = np.array([\n",
    "    [r, 0, r, 0, 0],\n",
    "    [0, r, 0, r, 0], \n",
    "    [r, 0, -r, 0, 0],\n",
    "    [0, r, 0, -r, 0], \n",
    "    [0, 0, 0, 0, 1],\n",
    "])"
   ]
  },
  {
   "cell_type": "code",
   "execution_count": 32,
   "metadata": {},
   "outputs": [
    {
     "data": {
      "text/plain": [
       "0.7071067811865476"
      ]
     },
     "execution_count": 32,
     "metadata": {},
     "output_type": "execute_result"
    }
   ],
   "source": [
    "r"
   ]
  },
  {
   "cell_type": "code",
   "execution_count": 33,
   "metadata": {},
   "outputs": [
    {
     "data": {
      "text/plain": [
       "array([[ 0.70710678,  0.        ,  0.70710678, -0.        ,  0.        ],\n",
       "       [ 0.70710678,  0.        , -0.70710678, -0.        ,  0.        ],\n",
       "       [ 0.        ,  0.70710678, -0.        ,  0.70710678,  0.        ],\n",
       "       [ 0.        ,  0.70710678, -0.        , -0.70710678,  0.        ],\n",
       "       [ 0.        ,  0.        , -0.        , -0.        ,  1.        ]])"
      ]
     },
     "execution_count": 33,
     "metadata": {},
     "output_type": "execute_result"
    }
   ],
   "source": [
    "linalg.inv(B1).T"
   ]
  },
  {
   "cell_type": "code",
   "execution_count": 34,
   "metadata": {
    "scrolled": true
   },
   "outputs": [
    {
     "data": {
      "text/plain": [
       "array([[1., 0., 0., 0., 0.],\n",
       "       [0., 1., 0., 0., 0.],\n",
       "       [0., 0., 1., 0., 0.],\n",
       "       [0., 0., 0., 1., 0.],\n",
       "       [0., 0., 0., 0., 1.]])"
      ]
     },
     "execution_count": 34,
     "metadata": {},
     "output_type": "execute_result"
    }
   ],
   "source": [
    "B1.T @ B1"
   ]
  },
  {
   "cell_type": "code",
   "execution_count": 35,
   "metadata": {},
   "outputs": [
    {
     "data": {
      "text/plain": [
       "array([[1., 0., 0., 0., 0.],\n",
       "       [0., 1., 0., 0., 0.],\n",
       "       [0., 0., 1., 0., 0.],\n",
       "       [0., 0., 0., 1., 0.],\n",
       "       [0., 0., 0., 0., 1.]])"
      ]
     },
     "execution_count": 35,
     "metadata": {},
     "output_type": "execute_result"
    }
   ],
   "source": [
    "B2.T @ B2"
   ]
  },
  {
   "cell_type": "code",
   "execution_count": 47,
   "metadata": {
    "scrolled": true
   },
   "outputs": [
    {
     "data": {
      "text/plain": [
       "48.97530864197528"
      ]
     },
     "execution_count": 47,
     "metadata": {},
     "output_type": "execute_result"
    }
   ],
   "source": [
    "C2 = np.cov(Xc @ linalg.inv(B1).T, bias=True, rowvar=False)\n",
    "np.diag(C2).sum()"
   ]
  },
  {
   "cell_type": "code",
   "execution_count": 52,
   "metadata": {},
   "outputs": [
    {
     "data": {
      "text/plain": [
       "array([[20.08333333,  8.54166667,  1.22222222, -1.76388889,  0.11785113],\n",
       "       [ 8.54166667, 19.2808642 , -1.06018519,  2.07407407,  0.74639049],\n",
       "       [ 1.22222222, -1.06018519,  0.25      , -0.40277778,  0.03928371],\n",
       "       [-1.76388889,  2.07407407, -0.40277778,  0.69444444, -0.19641855],\n",
       "       [ 0.11785113,  0.74639049,  0.03928371, -0.19641855,  8.66666667]])"
      ]
     },
     "execution_count": 52,
     "metadata": {},
     "output_type": "execute_result"
    }
   ],
   "source": [
    "C2"
   ]
  },
  {
   "cell_type": "code",
   "execution_count": 48,
   "metadata": {},
   "outputs": [
    {
     "data": {
      "text/plain": [
       "48.97530864197531"
      ]
     },
     "execution_count": 48,
     "metadata": {},
     "output_type": "execute_result"
    }
   ],
   "source": [
    "C3 = np.cov(Xc @ B2, bias=True, rowvar=False)\n",
    "np.diag(C3).sum()"
   ]
  },
  {
   "cell_type": "code",
   "execution_count": 51,
   "metadata": {
    "scrolled": true
   },
   "outputs": [
    {
     "data": {
      "text/plain": [
       "89.28395061728396"
      ]
     },
     "execution_count": 51,
     "metadata": {},
     "output_type": "execute_result"
    }
   ],
   "source": [
    "C1 = np.cov(Xc @ linalg.inv(A1), bias=True, rowvar=False)\n",
    "np.diag(C1).sum()"
   ]
  },
  {
   "cell_type": "code",
   "execution_count": 50,
   "metadata": {},
   "outputs": [
    {
     "data": {
      "text/plain": [
       "48.97530864197531"
      ]
     },
     "execution_count": 50,
     "metadata": {},
     "output_type": "execute_result"
    }
   ],
   "source": [
    "C0 = np.cov(Xc, bias=True, rowvar=False)\n",
    "np.diag(C0).sum()"
   ]
  },
  {
   "cell_type": "markdown",
   "metadata": {},
   "source": [
    "On utilise le fait que les matrices de passage sont orthogonales. On a donc $(B^{−1})_{T} = B_1$ et $(B^{−2})_{T} = B_2$. Lorsque le changement de base est orthonormale l’inertie est conservée."
   ]
  },
  {
   "cell_type": "code",
   "execution_count": 75,
   "metadata": {},
   "outputs": [
    {
     "data": {
      "text/plain": [
       "array([11.38888889,  8.94444444, 12.0617284 ,  7.91358025,  8.66666667])"
      ]
     },
     "execution_count": 75,
     "metadata": {},
     "output_type": "execute_result"
    },
    {
     "data": {
      "text/plain": [
       "array([20.08333333, 19.2808642 ,  0.25      ,  0.69444444,  8.66666667])"
      ]
     },
     "execution_count": 75,
     "metadata": {},
     "output_type": "execute_result"
    },
    {
     "data": {
      "text/plain": [
       "array([14.38271605, 13.91049383,  9.06790123,  2.94753086,  8.66666667])"
      ]
     },
     "execution_count": 75,
     "metadata": {},
     "output_type": "execute_result"
    },
    {
     "data": {
      "text/plain": [
       "array([0.23254348, 0.18263171, 0.24628183, 0.16158306, 0.17695992])"
      ]
     },
     "execution_count": 75,
     "metadata": {},
     "output_type": "execute_result"
    },
    {
     "data": {
      "text/plain": [
       "array([0.41007058, 0.3936854 , 0.00510461, 0.01417948, 0.17695992])"
      ]
     },
     "execution_count": 75,
     "metadata": {},
     "output_type": "execute_result"
    },
    {
     "data": {
      "text/plain": [
       "array([0.2936728 , 0.28403075, 0.18515251, 0.06018402, 0.17695992])"
      ]
     },
     "execution_count": 75,
     "metadata": {},
     "output_type": "execute_result"
    }
   ],
   "source": [
    "# inertie donnee par les dimensions\n",
    "C = np.cov(Xc, bias=True, rowvar=False)\n",
    "np.diag(C)\n",
    "C2 = np.cov(Xc @ linalg.inv(B1).T, bias=True, rowvar=False)\n",
    "np.diag(C2)\n",
    "C3 = np.cov(Xc @ B2, bias=True, rowvar=False)\n",
    "np.diag(C3)\n",
    "# en pourcentage\n",
    "np.diag(C)/sum(np.diag(C))\n",
    "np.diag(C2)/sum(np.diag(C2))\n",
    "np.diag(C3)/sum(np.diag(C3))"
   ]
  },
  {
   "cell_type": "markdown",
   "metadata": {},
   "source": [
    "On choisirait les axes définis par les deux premiers vecteurs de B1 : ce sont ceux qui expliquent la plus grande partie de l’inertie du jeu de données avec respectivement 41.0070582% et 39.3685405%."
   ]
  },
  {
   "cell_type": "code",
   "execution_count": 76,
   "metadata": {},
   "outputs": [],
   "source": [
    " B3 = 1/2 * np.array([\n",
    "    [1, 1, 1, 1, 0],\n",
    "    [1, 1, -1, -1, 0], \n",
    "    [1, -1, -1, 1, 0], \n",
    "    [1, -1, 1, -1, 0], \n",
    "    [0, 0, 0, 0, 2],])"
   ]
  },
  {
   "cell_type": "code",
   "execution_count": 77,
   "metadata": {},
   "outputs": [],
   "source": [
    "C3 = np.cov(Xc @ B3, bias=True, rowvar=False)"
   ]
  },
  {
   "cell_type": "code",
   "execution_count": 78,
   "metadata": {},
   "outputs": [
    {
     "data": {
      "text/plain": [
       "48.9753086419753"
      ]
     },
     "execution_count": 78,
     "metadata": {},
     "output_type": "execute_result"
    }
   ],
   "source": [
    "np.diag(C3).sum()"
   ]
  },
  {
   "cell_type": "code",
   "execution_count": 80,
   "metadata": {},
   "outputs": [
    {
     "data": {
      "text/plain": [
       "39.364197530864196"
      ]
     },
     "execution_count": 80,
     "metadata": {},
     "output_type": "execute_result"
    },
    {
     "data": {
      "text/plain": [
       "39.36419753086419"
      ]
     },
     "execution_count": 80,
     "metadata": {},
     "output_type": "execute_result"
    },
    {
     "data": {
      "text/plain": [
       "28.223765432098762"
      ]
     },
     "execution_count": 80,
     "metadata": {},
     "output_type": "execute_result"
    },
    {
     "data": {
      "text/plain": [
       "20.083333333333325"
      ]
     },
     "execution_count": 80,
     "metadata": {},
     "output_type": "execute_result"
    }
   ],
   "source": [
    "np.diag(C3)[:2].sum()\n",
    "np.diag(C2)[:2].sum()\n",
    "np.diag(C3)[0]\n",
    "np.diag(C2)[0]"
   ]
  },
  {
   "cell_type": "markdown",
   "metadata": {},
   "source": [
    "L’inertie totale est la même. L’inertie expliquée par les deux axes est la même. En revanche l’inertie expliquée par le premier axe est plus importante dans la base B3."
   ]
  },
  {
   "cell_type": "markdown",
   "metadata": {},
   "source": [
    "## Wrapped cumulative inertia"
   ]
  },
  {
   "cell_type": "code",
   "execution_count": 90,
   "metadata": {},
   "outputs": [],
   "source": [
    "# QR decomposition and we got U as a matrix orthogonal\n",
    "def random_cumsums():\n",
    "    U, Q = linalg.qr(np.random.randn(5, 5))\n",
    "    C = np.cov(Xc @ U, bias=True, rowvar=False)\n",
    "    return np.cumsum(np.diag(C))"
   ]
  },
  {
   "cell_type": "code",
   "execution_count": 82,
   "metadata": {},
   "outputs": [
    {
     "data": {
      "text/plain": [
       "array([[-2.54134826,  0.62059705,  0.26469097, -0.03602604, -0.53575077],\n",
       "       [ 0.        , -1.89120118,  1.28456779,  0.03890851, -1.24099422],\n",
       "       [ 0.        ,  0.        , -0.46141118,  1.10108142,  0.06734848],\n",
       "       [ 0.        ,  0.        ,  0.        ,  1.15700507,  0.24637032],\n",
       "       [ 0.        ,  0.        ,  0.        ,  0.        ,  0.82034766]])"
      ]
     },
     "execution_count": 82,
     "metadata": {},
     "output_type": "execute_result"
    }
   ],
   "source": []
  },
  {
   "cell_type": "code",
   "execution_count": 168,
   "metadata": {},
   "outputs": [
    {
     "data": {
      "text/html": [
       "<div>\n",
       "<style scoped>\n",
       "    .dataframe tbody tr th:only-of-type {\n",
       "        vertical-align: middle;\n",
       "    }\n",
       "\n",
       "    .dataframe tbody tr th {\n",
       "        vertical-align: top;\n",
       "    }\n",
       "\n",
       "    .dataframe thead th {\n",
       "        text-align: right;\n",
       "    }\n",
       "</style>\n",
       "<table border=\"1\" class=\"dataframe\">\n",
       "  <thead>\n",
       "    <tr style=\"text-align: right;\">\n",
       "      <th></th>\n",
       "      <th>Base</th>\n",
       "      <th>Axe</th>\n",
       "      <th>Inertie Cumulée</th>\n",
       "    </tr>\n",
       "  </thead>\n",
       "  <tbody>\n",
       "    <tr>\n",
       "      <th>0</th>\n",
       "      <td>0</td>\n",
       "      <td>Axe 1</td>\n",
       "      <td>6.883732</td>\n",
       "    </tr>\n",
       "    <tr>\n",
       "      <th>1</th>\n",
       "      <td>1</td>\n",
       "      <td>Axe 1</td>\n",
       "      <td>14.840670</td>\n",
       "    </tr>\n",
       "    <tr>\n",
       "      <th>2</th>\n",
       "      <td>2</td>\n",
       "      <td>Axe 1</td>\n",
       "      <td>2.413081</td>\n",
       "    </tr>\n",
       "    <tr>\n",
       "      <th>3</th>\n",
       "      <td>3</td>\n",
       "      <td>Axe 1</td>\n",
       "      <td>16.198322</td>\n",
       "    </tr>\n",
       "    <tr>\n",
       "      <th>4</th>\n",
       "      <td>4</td>\n",
       "      <td>Axe 1</td>\n",
       "      <td>8.045480</td>\n",
       "    </tr>\n",
       "    <tr>\n",
       "      <th>...</th>\n",
       "      <td>...</td>\n",
       "      <td>...</td>\n",
       "      <td>...</td>\n",
       "    </tr>\n",
       "    <tr>\n",
       "      <th>95</th>\n",
       "      <td>15</td>\n",
       "      <td>Axe 5</td>\n",
       "      <td>48.975309</td>\n",
       "    </tr>\n",
       "    <tr>\n",
       "      <th>96</th>\n",
       "      <td>16</td>\n",
       "      <td>Axe 5</td>\n",
       "      <td>48.975309</td>\n",
       "    </tr>\n",
       "    <tr>\n",
       "      <th>97</th>\n",
       "      <td>17</td>\n",
       "      <td>Axe 5</td>\n",
       "      <td>48.975309</td>\n",
       "    </tr>\n",
       "    <tr>\n",
       "      <th>98</th>\n",
       "      <td>18</td>\n",
       "      <td>Axe 5</td>\n",
       "      <td>48.975309</td>\n",
       "    </tr>\n",
       "    <tr>\n",
       "      <th>99</th>\n",
       "      <td>19</td>\n",
       "      <td>Axe 5</td>\n",
       "      <td>48.975309</td>\n",
       "    </tr>\n",
       "  </tbody>\n",
       "</table>\n",
       "<p>100 rows × 3 columns</p>\n",
       "</div>"
      ],
      "text/plain": [
       "    Base    Axe  Inertie Cumulée\n",
       "0      0  Axe 1         6.883732\n",
       "1      1  Axe 1        14.840670\n",
       "2      2  Axe 1         2.413081\n",
       "3      3  Axe 1        16.198322\n",
       "4      4  Axe 1         8.045480\n",
       "..   ...    ...              ...\n",
       "95    15  Axe 5        48.975309\n",
       "96    16  Axe 5        48.975309\n",
       "97    17  Axe 5        48.975309\n",
       "98    18  Axe 5        48.975309\n",
       "99    19  Axe 5        48.975309\n",
       "\n",
       "[100 rows x 3 columns]"
      ]
     },
     "execution_count": 168,
     "metadata": {},
     "output_type": "execute_result"
    }
   ],
   "source": [
    "# the identifier of the base considered\n",
    "# the axis with which to carry out the accumulation of inertias\n",
    "# the corresponding cumulative inertia\n",
    "data = [random_cumsums() for i in range(20)]\n",
    "X0 = pd.DataFrame(data, columns=[f\"Axe {i+1}\" for i in range(5)])\n",
    "X0.index.name = \"Base\"\n",
    "X0 = X0.reset_index()\n",
    "X0 = X0.melt(id_vars=\"Base\", var_name=\"Axe\", value_name=\"Inertie Cumulée\")\n",
    "X0"
   ]
  },
  {
   "cell_type": "code",
   "execution_count": 169,
   "metadata": {},
   "outputs": [
    {
     "data": {
      "text/plain": [
       "<function matplotlib.pyplot.show(*args, **kw)>"
      ]
     },
     "execution_count": 169,
     "metadata": {},
     "output_type": "execute_result"
    },
    {
     "data": {
      "image/png": "[encoded data removed]",
      "text/plain": [
       "<Figure size 432x288 with 1 Axes>"
      ]
     },
     "metadata": {
      "needs_background": "light"
     },
     "output_type": "display_data"
    }
   ],
   "source": [
    "ax = sns.pointplot(x=\"Axe\", y=\"Inertie Cumulée\", hue=\"Base\", data=X0)\n",
    "ax.get_legend().remove()\n",
    "plt.show"
   ]
  },
  {
   "cell_type": "markdown",
   "metadata": {},
   "source": [
    "La courbe d’une base orthogonale optimale devrait dominer toute les autres. Il semble très peu probable de générer aléatoirement une base optimale."
   ]
  },
  {
   "cell_type": "code",
   "execution_count": 132,
   "metadata": {},
   "outputs": [],
   "source": [
    "Bx = np.array([[0.515, -0.567, 0.051, -0.289, -0.573], \n",
    "            [0.507, -0.372, 0.014, 0.553, 0.546],\n",
    "            [0.492, 0.65, -0.108, 0.394, -0.41], \n",
    "            [0.485, 0.323, -0.023, -0.674, 0.453], \n",
    "            [0.031, 0.113, 0.992, 0.034, -0.013]])"
   ]
  },
  {
   "cell_type": "code",
   "execution_count": 170,
   "metadata": {},
   "outputs": [
    {
     "data": {
      "text/plain": [
       "[<matplotlib.lines.Line2D at 0x1a2eb216d8>]"
      ]
     },
     "execution_count": 170,
     "metadata": {},
     "output_type": "execute_result"
    },
    {
     "data": {
      "text/plain": [
       "<function matplotlib.pyplot.show(*args, **kw)>"
      ]
     },
     "execution_count": 170,
     "metadata": {},
     "output_type": "execute_result"
    },
    {
     "data": {
      "image/png": "[encoded data removed]",
      "text/plain": [
       "<Figure size 432x288 with 1 Axes>"
      ]
     },
     "metadata": {
      "needs_background": "light"
     },
     "output_type": "display_data"
    }
   ],
   "source": [
    "ax = sns.pointplot(x=\"Axe\", y=\"Inertie Cumulée\", hue=\"Base\", data=X0)\n",
    "ax.get_legend().remove()\n",
    "CBx = np.cov(Xc @ linalg.inv(Bx).T, bias=True, rowvar=False)\n",
    "CCbx = np.cumsum(np.diag(CBx))\n",
    "ax.plot(range(5), CCbx, 'k-o', zorder=100) #zorder make it show above others\n",
    "plt.show"
   ]
  },
  {
   "cell_type": "code",
   "execution_count": 160,
   "metadata": {},
   "outputs": [],
   "source": [
    "from scipy.linalg import block_diag"
   ]
  },
  {
   "cell_type": "code",
   "execution_count": 172,
   "metadata": {},
   "outputs": [
    {
     "data": {
      "text/plain": [
       "[<matplotlib.lines.Line2D at 0x1a2c376320>]"
      ]
     },
     "execution_count": 172,
     "metadata": {},
     "output_type": "execute_result"
    },
    {
     "data": {
      "text/plain": [
       "[<matplotlib.lines.Line2D at 0x1a2bd5e400>]"
      ]
     },
     "execution_count": 172,
     "metadata": {},
     "output_type": "execute_result"
    },
    {
     "data": {
      "image/png": "[encoded data removed]",
      "text/plain": [
       "<Figure size 432x288 with 1 Axes>"
      ]
     },
     "metadata": {
      "needs_background": "light"
     },
     "output_type": "display_data"
    }
   ],
   "source": [
    "# bloc\n",
    "A, _ = linalg.qr(np.random.randn(2, 2))\n",
    "By = Bx @ scipy.linalg.block_diag(A, A, 1)\n",
    "\n",
    "ax = sns.pointplot(x=\"Axe\", y=\"Inertie Cumulée\", hue=\"Base\", data=X0, legend=False)\n",
    "ax.get_legend().remove()\n",
    "\n",
    "C = np.cov(Xc @ Bx, bias=True, rowvar=False)\n",
    "csx = np.cumsum(np.diag(C))\n",
    "ax.plot(range(5), csx, 'k-o', zorder=100)\n",
    "\n",
    "Cy = np.cov(Xc @ By, bias=True, rowvar=False)\n",
    "csy = np.cumsum(np.diag(Cy))\n",
    "ax.plot(range(5), csy, 'k-o', zorder=100)"
   ]
  },
  {
   "cell_type": "markdown",
   "metadata": {},
   "source": [
    "## Inertia with respect to an axis"
   ]
  },
  {
   "cell_type": "markdown",
   "metadata": {},
   "source": [
    "We propose to experimentally verify Huygens' formulas"
   ]
  },
  {
   "cell_type": "code",
   "execution_count": 173,
   "metadata": {},
   "outputs": [],
   "source": [
    "n, p = 100, 2\n",
    "X = np.random.randn(n, p)\n",
    "feat_metric = np.eye(p) \n",
    "sample_metric = 1 / n * np.eye(n)"
   ]
  },
  {
   "cell_type": "code",
   "execution_count": 176,
   "metadata": {},
   "outputs": [
    {
     "data": {
      "text/plain": [
       "array([[0.01, 0.  , 0.  , ..., 0.  , 0.  , 0.  ],\n",
       "       [0.  , 0.01, 0.  , ..., 0.  , 0.  , 0.  ],\n",
       "       [0.  , 0.  , 0.01, ..., 0.  , 0.  , 0.  ],\n",
       "       ...,\n",
       "       [0.  , 0.  , 0.  , ..., 0.01, 0.  , 0.  ],\n",
       "       [0.  , 0.  , 0.  , ..., 0.  , 0.01, 0.  ],\n",
       "       [0.  , 0.  , 0.  , ..., 0.  , 0.  , 0.01]])"
      ]
     },
     "execution_count": 176,
     "metadata": {},
     "output_type": "execute_result"
    }
   ],
   "source": [
    "def inertia_point()"
   ]
  },
  {
   "cell_type": "code",
   "execution_count": 177,
   "metadata": {},
   "outputs": [
    {
     "ename": "NameError",
     "evalue": "name 'inertia_factory' is not defined",
     "output_type": "error",
     "traceback": [
      "\u001b[0;31m---------------------------------------------------------------------------\u001b[0m",
      "\u001b[0;31mNameError\u001b[0m                                 Traceback (most recent call last)",
      "\u001b[0;32m<ipython-input-177-6dce22d24ae4>\u001b[0m in \u001b[0;36m<module>\u001b[0;34m\u001b[0m\n\u001b[1;32m      3\u001b[0m \u001b[0mfeat_metric0\u001b[0m \u001b[0;34m=\u001b[0m \u001b[0mnp\u001b[0m\u001b[0;34m.\u001b[0m\u001b[0meye\u001b[0m\u001b[0;34m(\u001b[0m\u001b[0mp0\u001b[0m\u001b[0;34m)\u001b[0m\u001b[0;34m\u001b[0m\u001b[0;34m\u001b[0m\u001b[0m\n\u001b[1;32m      4\u001b[0m \u001b[0msample_metric0\u001b[0m \u001b[0;34m=\u001b[0m \u001b[0;36m1\u001b[0m \u001b[0;34m/\u001b[0m \u001b[0mn0\u001b[0m \u001b[0;34m*\u001b[0m \u001b[0mnp\u001b[0m\u001b[0;34m.\u001b[0m\u001b[0meye\u001b[0m\u001b[0;34m(\u001b[0m\u001b[0mn0\u001b[0m\u001b[0;34m)\u001b[0m\u001b[0;34m\u001b[0m\u001b[0;34m\u001b[0m\u001b[0m\n\u001b[0;32m----> 5\u001b[0;31m \u001b[0mfeat_inner0\u001b[0m\u001b[0;34m,\u001b[0m \u001b[0minertia_point0\u001b[0m\u001b[0;34m,\u001b[0m \u001b[0minertia_axe0\u001b[0m \u001b[0;34m=\u001b[0m \u001b[0minertia_factory\u001b[0m\u001b[0;34m(\u001b[0m\u001b[0mfeat_metric0\u001b[0m\u001b[0;34m,\u001b[0m \u001b[0msample_metric0\u001b[0m\u001b[0;34m)\u001b[0m\u001b[0;34m\u001b[0m\u001b[0;34m\u001b[0m\u001b[0m\n\u001b[0m",
      "\u001b[0;31mNameError\u001b[0m: name 'inertia_factory' is not defined"
     ]
    }
   ],
   "source": [
    "X0 = np.array([[1, 0], [0, 1]])\n",
    "n0, p0 = X0.shape\n",
    "feat_metric0 = np.eye(p0)\n",
    "sample_metric0 = 1 / n0 * np.eye(n0)\n",
    "feat_inner0, inertia_point0, inertia_axe0 = inertia_factory(feat_metric0, sample_metric0)\n"
   ]
  },
  {
   "cell_type": "code",
   "execution_count": null,
   "metadata": {},
   "outputs": [],
   "source": []
  },
  {
   "cell_type": "code",
   "execution_count": null,
   "metadata": {},
   "outputs": [],
   "source": []
  },
  {
   "cell_type": "code",
   "execution_count": null,
   "metadata": {},
   "outputs": [],
   "source": []
  },
  {
   "cell_type": "code",
   "execution_count": null,
   "metadata": {},
   "outputs": [],
   "source": []
  },
  {
   "cell_type": "code",
   "execution_count": null,
   "metadata": {},
   "outputs": [],
   "source": []
  },
  {
   "cell_type": "code",
   "execution_count": null,
   "metadata": {},
   "outputs": [],
   "source": []
  },
  {
   "cell_type": "code",
   "execution_count": null,
   "metadata": {},
   "outputs": [],
   "source": []
  },
  {
   "cell_type": "code",
   "execution_count": null,
   "metadata": {},
   "outputs": [],
   "source": []
  },
  {
   "cell_type": "code",
   "execution_count": null,
   "metadata": {},
   "outputs": [],
   "source": []
  }
 ],
 "metadata": {
  "kernelspec": {
   "display_name": "Python 3",
   "language": "python",
   "name": "python3"
  },
  "language_info": {
   "codemirror_mode": {
    "name": "ipython",
    "version": 3
   },
   "file_extension": ".py",
   "mimetype": "text/x-python",
   "name": "python",
   "nbconvert_exporter": "python",
   "pygments_lexer": "ipython3",
   "version": "3.7.6"
  }
 },
 "nbformat": 4,
 "nbformat_minor": 4
}
