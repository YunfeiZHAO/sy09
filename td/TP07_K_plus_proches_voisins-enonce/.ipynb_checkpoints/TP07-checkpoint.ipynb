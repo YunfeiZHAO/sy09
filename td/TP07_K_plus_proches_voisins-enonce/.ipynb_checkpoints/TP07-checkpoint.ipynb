{
 "cells": [
  {
   "cell_type": "markdown",
   "metadata": {},
   "source": [
    "# K plus proches voisins supervised learning methode"
   ]
  },
  {
   "cell_type": "code",
   "execution_count": 4,
   "metadata": {},
   "outputs": [],
   "source": [
    "from sklearn.neighbors import KNeighborsClassifier\n",
    "from sklearn.cluster import KMeans\n",
    "import numpy as np\n",
    "import pandas as pd\n",
    "import seaborn as sns\n",
    "import matplotlib.pyplot as plt\n",
    "import matplotlib as mpl\n",
    "from sklearn.decomposition import PCA"
   ]
  },
  {
   "cell_type": "code",
   "execution_count": 5,
   "metadata": {},
   "outputs": [],
   "source": [
    "cls = KNeighborsClassifier(n_neighbors=3)"
   ]
  },
  {
   "cell_type": "code",
   "execution_count": 6,
   "metadata": {},
   "outputs": [],
   "source": [
    "Xy = pd.read_csv(\"data/Synth1-2000.csv\")"
   ]
  },
  {
   "cell_type": "code",
   "execution_count": 10,
   "metadata": {},
   "outputs": [
    {
     "ename": "NameError",
     "evalue": "name 'scatterplot_pca' is not defined",
     "output_type": "error",
     "traceback": [
      "\u001b[0;31m---------------------------------------------------------------------------\u001b[0m",
      "\u001b[0;31mNameError\u001b[0m                                 Traceback (most recent call last)",
      "\u001b[0;32m<ipython-input-10-82394aa841a7>\u001b[0m in \u001b[0;36m<module>\u001b[0;34m\u001b[0m\n\u001b[1;32m      1\u001b[0m \u001b[0mX\u001b[0m \u001b[0;34m=\u001b[0m \u001b[0mXy\u001b[0m\u001b[0;34m.\u001b[0m\u001b[0miloc\u001b[0m\u001b[0;34m[\u001b[0m\u001b[0;34m:\u001b[0m\u001b[0;34m,\u001b[0m \u001b[0;34m:\u001b[0m\u001b[0;34m-\u001b[0m\u001b[0;36m1\u001b[0m\u001b[0;34m]\u001b[0m\u001b[0;34m\u001b[0m\u001b[0;34m\u001b[0m\u001b[0m\n\u001b[1;32m      2\u001b[0m \u001b[0my\u001b[0m \u001b[0;34m=\u001b[0m \u001b[0mXy\u001b[0m\u001b[0;34m.\u001b[0m\u001b[0miloc\u001b[0m\u001b[0;34m[\u001b[0m\u001b[0;34m:\u001b[0m\u001b[0;34m,\u001b[0m \u001b[0;34m-\u001b[0m\u001b[0;36m1\u001b[0m\u001b[0;34m]\u001b[0m\u001b[0;34m\u001b[0m\u001b[0;34m\u001b[0m\u001b[0m\n\u001b[0;32m----> 3\u001b[0;31m \u001b[0mplot_clustering\u001b[0m\u001b[0;34m(\u001b[0m\u001b[0mX\u001b[0m\u001b[0;34m,\u001b[0m \u001b[0my\u001b[0m\u001b[0;34m)\u001b[0m\u001b[0;34m\u001b[0m\u001b[0;34m\u001b[0m\u001b[0m\n\u001b[0m\u001b[1;32m      4\u001b[0m \u001b[0mplt\u001b[0m\u001b[0;34m.\u001b[0m\u001b[0mshow\u001b[0m\u001b[0;34m(\u001b[0m\u001b[0;34m)\u001b[0m\u001b[0;34m\u001b[0m\u001b[0;34m\u001b[0m\u001b[0m\n",
      "\u001b[0;32m<ipython-input-9-835b41d3e1d5>\u001b[0m in \u001b[0;36mplot_clustering\u001b[0;34m(data, clus1, clus2, ax, **kwargs)\u001b[0m\n\u001b[1;32m      8\u001b[0m     \u001b[0mother_kwargs\u001b[0m \u001b[0;34m=\u001b[0m \u001b[0;34m{\u001b[0m\u001b[0me\u001b[0m\u001b[0;34m:\u001b[0m \u001b[0mkwargs\u001b[0m\u001b[0;34m.\u001b[0m\u001b[0mpop\u001b[0m\u001b[0;34m(\u001b[0m\u001b[0me\u001b[0m\u001b[0;34m)\u001b[0m \u001b[0;32mfor\u001b[0m \u001b[0me\u001b[0m \u001b[0;32min\u001b[0m \u001b[0;34m[\u001b[0m\u001b[0;34m\"centers\"\u001b[0m\u001b[0;34m,\u001b[0m \u001b[0;34m\"covars\"\u001b[0m\u001b[0;34m]\u001b[0m \u001b[0;32mif\u001b[0m \u001b[0me\u001b[0m \u001b[0;32min\u001b[0m \u001b[0mkwargs\u001b[0m\u001b[0;34m}\u001b[0m\u001b[0;34m\u001b[0m\u001b[0;34m\u001b[0m\u001b[0m\n\u001b[1;32m      9\u001b[0m \u001b[0;34m\u001b[0m\u001b[0m\n\u001b[0;32m---> 10\u001b[0;31m     \u001b[0max\u001b[0m\u001b[0;34m,\u001b[0m \u001b[0mpca\u001b[0m \u001b[0;34m=\u001b[0m \u001b[0mscatterplot_pca\u001b[0m\u001b[0;34m(\u001b[0m\u001b[0mdata\u001b[0m\u001b[0;34m=\u001b[0m\u001b[0mdata\u001b[0m\u001b[0;34m,\u001b[0m \u001b[0mhue\u001b[0m\u001b[0;34m=\u001b[0m\u001b[0mclus1\u001b[0m\u001b[0;34m,\u001b[0m \u001b[0mstyle\u001b[0m\u001b[0;34m=\u001b[0m\u001b[0mclus2\u001b[0m\u001b[0;34m,\u001b[0m \u001b[0max\u001b[0m\u001b[0;34m=\u001b[0m\u001b[0max\u001b[0m\u001b[0;34m,\u001b[0m \u001b[0;34m**\u001b[0m\u001b[0mkwargs\u001b[0m\u001b[0;34m)\u001b[0m\u001b[0;34m\u001b[0m\u001b[0;34m\u001b[0m\u001b[0m\n\u001b[0m\u001b[1;32m     11\u001b[0m \u001b[0;34m\u001b[0m\u001b[0m\n\u001b[1;32m     12\u001b[0m     \u001b[0;32mif\u001b[0m \u001b[0;34m\"centers\"\u001b[0m \u001b[0;32min\u001b[0m \u001b[0mother_kwargs\u001b[0m \u001b[0;32mand\u001b[0m \u001b[0;34m\"covars\"\u001b[0m \u001b[0;32min\u001b[0m \u001b[0mother_kwargs\u001b[0m\u001b[0;34m:\u001b[0m\u001b[0;34m\u001b[0m\u001b[0;34m\u001b[0m\u001b[0m\n",
      "\u001b[0;31mNameError\u001b[0m: name 'scatterplot_pca' is not defined"
     ]
    },
    {
     "data": {
      "image/png": "[encoded data removed]",
      "text/plain": [
       "<Figure size 432x288 with 1 Axes>"
      ]
     },
     "metadata": {
      "needs_background": "light"
     },
     "output_type": "display_data"
    }
   ],
   "source": [
    "X = Xy.iloc[:, :-1]\n",
    "y = Xy.iloc[:, -1]\n",
    "plot_clustering(X, y)\n",
    "plt.show()"
   ]
  },
  {
   "cell_type": "code",
   "execution_count": null,
   "metadata": {},
   "outputs": [],
   "source": []
  },
  {
   "cell_type": "code",
   "execution_count": null,
   "metadata": {},
   "outputs": [],
   "source": []
  },
  {
   "cell_type": "code",
   "execution_count": null,
   "metadata": {},
   "outputs": [],
   "source": []
  },
  {
   "cell_type": "code",
   "execution_count": null,
   "metadata": {},
   "outputs": [],
   "source": []
  },
  {
   "cell_type": "code",
   "execution_count": null,
   "metadata": {},
   "outputs": [],
   "source": []
  },
  {
   "cell_type": "code",
   "execution_count": null,
   "metadata": {},
   "outputs": [],
   "source": []
  },
  {
   "cell_type": "code",
   "execution_count": null,
   "metadata": {},
   "outputs": [],
   "source": []
  },
  {
   "cell_type": "code",
   "execution_count": null,
   "metadata": {},
   "outputs": [],
   "source": []
  },
  {
   "cell_type": "code",
   "execution_count": null,
   "metadata": {},
   "outputs": [],
   "source": []
  },
  {
   "cell_type": "code",
   "execution_count": null,
   "metadata": {},
   "outputs": [],
   "source": []
  },
  {
   "cell_type": "code",
   "execution_count": null,
   "metadata": {},
   "outputs": [],
   "source": []
  },
  {
   "cell_type": "code",
   "execution_count": null,
   "metadata": {},
   "outputs": [],
   "source": []
  },
  {
   "cell_type": "code",
   "execution_count": null,
   "metadata": {},
   "outputs": [],
   "source": []
  },
  {
   "cell_type": "code",
   "execution_count": null,
   "metadata": {},
   "outputs": [],
   "source": []
  },
  {
   "cell_type": "code",
   "execution_count": null,
   "metadata": {},
   "outputs": [],
   "source": []
  },
  {
   "cell_type": "code",
   "execution_count": null,
   "metadata": {},
   "outputs": [],
   "source": []
  },
  {
   "cell_type": "code",
   "execution_count": 9,
   "metadata": {},
   "outputs": [],
   "source": [
    "def scatterplot_pca(\n",
    "    columns=None, hue=None, style=None, data=None, pc1=1, pc2=2, **kwargs\n",
    "):\n",
    "    \"\"\"\n",
    "    Utilise `sns.scatterplot` en appliquant d'abord une ACP si besoin\n",
    "    pour réduire la dimension.\n",
    "    \"\"\"\n",
    "\n",
    "    # Select columns (should be numeric)\n",
    "    data_quant = data if columns is None else data[columns]\n",
    "    data_quant = data_quant.drop(\n",
    "        columns=[e for e in [hue, style] if e is not None], errors=\"ignore\"\n",
    "    )\n",
    "\n",
    "    # Reduce to two dimensions\n",
    "    if data_quant.shape[1] == 2:\n",
    "        data_pca = data_quant\n",
    "        pca = None\n",
    "    else:\n",
    "        n_components = max(pc1, pc2)\n",
    "        pca = PCA(n_components=n_components)\n",
    "        data_pca = pca.fit_transform(data_quant)\n",
    "        data_pca = pd.DataFrame(\n",
    "            data_pca[:, [pc1 - 1, pc2 - 1]], columns=[f\"PC{pc1}\", f\"PC{pc2}\"]\n",
    "        )\n",
    "\n",
    "    # Keep name, force categorical data for hue and steal index to\n",
    "    # avoid unwanted alignment\n",
    "    if isinstance(hue, pd.Series):\n",
    "        if not hue.name:\n",
    "            hue.name = \"hue\"\n",
    "        hue_name = hue.name\n",
    "    elif isinstance(hue, str):\n",
    "        hue_name = hue\n",
    "        hue = data[hue]\n",
    "    elif isinstance(hue, np.ndarray):\n",
    "        hue = pd.Series(hue, name=\"class\")\n",
    "        hue_name = \"class\"\n",
    "\n",
    "    hue = hue.astype(\"category\")\n",
    "    hue.index = data_pca.index\n",
    "    hue.name = hue_name\n",
    "\n",
    "    if isinstance(style, pd.Series):\n",
    "        if not style.name:\n",
    "            style.name = \"style\"\n",
    "        style_name = style.name\n",
    "    elif isinstance(style, str):\n",
    "        style_name = style\n",
    "        style = data[style]\n",
    "    elif isinstance(style, np.ndarray):\n",
    "        style = pd.Series(style, name=\"style\")\n",
    "        style_name = \"style\"\n",
    "\n",
    "    sp_kwargs = {}\n",
    "    full_data = data_pca\n",
    "    if hue is not None:\n",
    "        full_data = pd.concat((full_data, hue), axis=1)\n",
    "        sp_kwargs[\"hue\"] = hue_name\n",
    "    if style is not None:\n",
    "        full_data = pd.concat((full_data, style), axis=1)\n",
    "        sp_kwargs[\"style\"] = style_name\n",
    "\n",
    "    x, y = data_pca.columns\n",
    "    ax = sns.scatterplot(x=x, y=y, data=full_data, **sp_kwargs)\n",
    "\n",
    "    return ax, pca\n",
    "\n",
    "\n",
    "def plot_clustering(data, clus1, clus2=None, ax=None, **kwargs):\n",
    "    \"\"\"Affiche les données `data` dans le premier plan principal.\n",
    "    \"\"\"\n",
    "\n",
    "    if ax is None:\n",
    "        ax = plt.gca()\n",
    "\n",
    "    other_kwargs = {e: kwargs.pop(e) for e in [\"centers\", \"covars\"] if e in kwargs}\n",
    "\n",
    "    ax, pca = scatterplot_pca(data=data, hue=clus1, style=clus2, ax=ax, **kwargs)\n",
    "\n",
    "    if \"centers\" in other_kwargs and \"covars\" in other_kwargs:\n",
    "        # Hack to get colors\n",
    "        # TODO use legend_out = True\n",
    "        levels = [str(l) for l in np.unique(clus1)]\n",
    "        hdls, labels = ax.get_legend_handles_labels()\n",
    "        colors = [\n",
    "            artist.get_facecolor().ravel()\n",
    "            for artist, label in zip(hdls, labels)\n",
    "            if label in levels\n",
    "        ]\n",
    "        colors = colors[: len(levels)]\n",
    "\n",
    "        if data.shape[1] == 2:\n",
    "            centers_2D = other_kwargs[\"centers\"]\n",
    "            covars_2D = other_kwargs[\"covars\"]\n",
    "        else:\n",
    "            centers_2D = pca.transform(other_kwargs[\"centers\"])\n",
    "            covars_2D = [\n",
    "                pca.components_ @ c @ pca.components_.T for c in other_kwargs[\"covars\"]\n",
    "            ]\n",
    "\n",
    "        p = 0.9\n",
    "        sig = norm.ppf(p ** (1 / 2))\n",
    "\n",
    "        for covar_2D, center_2D, color in zip(covars_2D, centers_2D, colors):\n",
    "            v, w = linalg.eigh(covar_2D)\n",
    "            v = 2.0 * sig * np.sqrt(v)\n",
    "\n",
    "            u = w[0] / linalg.norm(w[0])\n",
    "            if u[0] == 0:\n",
    "                angle = np.pi / 2\n",
    "            else:\n",
    "                angle = np.arctan(u[1] / u[0])\n",
    "\n",
    "            angle = 180.0 * angle / np.pi  # convert to degrees\n",
    "            ell = mpl.patches.Ellipse(center_2D, v[0], v[1], 180.0 + angle, color=color)\n",
    "            ell.set_clip_box(ax.bbox)\n",
    "            ell.set_alpha(0.5)\n",
    "            ax.add_artist(ell)\n",
    "\n",
    "    return ax, pca\n"
   ]
  }
 ],
 "metadata": {
  "kernelspec": {
   "display_name": "Python 3",
   "language": "python",
   "name": "python3"
  },
  "language_info": {
   "codemirror_mode": {
    "name": "ipython",
    "version": 3
   },
   "file_extension": ".py",
   "mimetype": "text/x-python",
   "name": "python",
   "nbconvert_exporter": "python",
   "pygments_lexer": "ipython3",
   "version": "3.7.6"
  }
 },
 "nbformat": 4,
 "nbformat_minor": 4
}
